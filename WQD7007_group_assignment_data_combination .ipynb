{
  "nbformat": 4,
  "nbformat_minor": 0,
  "metadata": {
    "colab": {
      "provenance": []
    },
    "kernelspec": {
      "name": "python3",
      "display_name": "Python 3"
    },
    "language_info": {
      "name": "python"
    }
  },
  "cells": [
    {
      "cell_type": "markdown",
      "source": [
        "# Infectious disease data loading and merging"
      ],
      "metadata": {
        "id": "h7IIHt8Ko3UO"
      }
    },
    {
      "cell_type": "markdown",
      "source": [
        "## Dataset1. Johns Hopkins University（JHU）：Classical time series data\n",
        "\n",
        "**Warehouse address：**\n",
        "https://github.com/CSSEGISandData/COVID-19\n",
        "\n",
        "**Key files**\n",
        "（Path：csse_covid_19_data/csse_covid_19_time_series/）：\n",
        "\n",
        "1.time_series_covid19_confirmed_global.csv:Daily global confirmed cases (wide table structure, with dynamically expanding date columns)\n",
        "\n",
        "2.time_series_covid19_deaths_global.csv：Daily global death cases (the same as above)\n",
        "\n",
        "3.time_series_covid19_recovered_global.csv：Daily global recovered cases (Historical data is complete. It may not be updated in the later stage, but it is suitable for project demonstration.)\n",
        "\n",
        "**Features**: Timely data updates, divided by region (country/province), in wide table format (with date as columns), **suitable for testing Spark's processing ability for \"dynamic columns**\"\n"
      ],
      "metadata": {
        "id": "MhwgiAwVpJzE"
      }
    },
    {
      "cell_type": "code",
      "source": [
        "# load the data\n",
        "import requests\n",
        "\n",
        "base_url = \"https://raw.githubusercontent.com/CSSEGISandData/COVID-19/master/\"\n",
        "sub_path = \"csse_covid_19_data/csse_covid_19_time_series/\"\n",
        "\n",
        "files = [\n",
        "    \"time_series_covid19_confirmed_global.csv\",\n",
        "    \"time_series_covid19_deaths_global.csv\",\n",
        "    \"time_series_covid19_recovered_global.csv\"\n",
        "]\n",
        "\n",
        "for f in files:\n",
        "    url = base_url + sub_path + f\n",
        "    r = requests.get(url)\n",
        "    with open(f, 'wb') as fp:\n",
        "        fp.write(r.content)\n"
      ],
      "metadata": {
        "id": "gyudc8Xql7uD"
      },
      "execution_count": 62,
      "outputs": []
    },
    {
      "cell_type": "code",
      "source": [
        "# Save and view basic data information\n",
        "import pandas as pd\n",
        "\n",
        "# setting path\n",
        "path_confirmed = \"time_series_covid19_confirmed_global.csv\"\n",
        "path_deaths = \"time_series_covid19_deaths_global.csv\"\n",
        "path_recovered = \"time_series_covid19_recovered_global.csv\"\n",
        "\n",
        "# read each csv\n",
        "df_confirmed = pd.read_csv(path_confirmed)\n",
        "df_deaths = pd.read_csv(path_deaths)\n",
        "df_recovered = pd.read_csv(path_recovered)\n",
        "\n",
        "# check the main info\n",
        "print(\"1.Confirmed Cases\")\n",
        "print(df_confirmed.head())\n",
        "print(\"\\nMissing values:\")\n",
        "print(df_confirmed.isnull().sum())\n",
        "\n",
        "print(\"\\n 2.Deaths\")\n",
        "print(df_deaths.head())\n",
        "print(\"\\nMissing values:\")\n",
        "print(df_deaths.isnull().sum())\n",
        "\n",
        "print(\"\\n 3.Recovered\")\n",
        "print(df_recovered.head())\n",
        "print(\"\\nMissing values:\")\n",
        "print(df_recovered.isnull().sum())\n"
      ],
      "metadata": {
        "colab": {
          "base_uri": "https://localhost:8080/"
        },
        "id": "9WjxWnG9mNqL",
        "outputId": "fd64c854-5bcc-4fc6-e43d-9ad7f60a485d"
      },
      "execution_count": 63,
      "outputs": [
        {
          "output_type": "stream",
          "name": "stdout",
          "text": [
            "1.Confirmed Cases\n",
            "  Province/State Country/Region       Lat       Long  1/22/20  1/23/20  \\\n",
            "0            NaN    Afghanistan  33.93911  67.709953        0        0   \n",
            "1            NaN        Albania  41.15330  20.168300        0        0   \n",
            "2            NaN        Algeria  28.03390   1.659600        0        0   \n",
            "3            NaN        Andorra  42.50630   1.521800        0        0   \n",
            "4            NaN         Angola -11.20270  17.873900        0        0   \n",
            "\n",
            "   1/24/20  1/25/20  1/26/20  1/27/20  ...  2/28/23  3/1/23  3/2/23  3/3/23  \\\n",
            "0        0        0        0        0  ...   209322  209340  209358  209362   \n",
            "1        0        0        0        0  ...   334391  334408  334408  334427   \n",
            "2        0        0        0        0  ...   271441  271448  271463  271469   \n",
            "3        0        0        0        0  ...    47866   47875   47875   47875   \n",
            "4        0        0        0        0  ...   105255  105277  105277  105277   \n",
            "\n",
            "   3/4/23  3/5/23  3/6/23  3/7/23  3/8/23  3/9/23  \n",
            "0  209369  209390  209406  209436  209451  209451  \n",
            "1  334427  334427  334427  334427  334443  334457  \n",
            "2  271469  271477  271477  271490  271494  271496  \n",
            "3   47875   47875   47875   47875   47890   47890  \n",
            "4  105277  105277  105277  105277  105288  105288  \n",
            "\n",
            "[5 rows x 1147 columns]\n",
            "\n",
            "Missing values:\n",
            "Province/State    198\n",
            "Country/Region      0\n",
            "Lat                 2\n",
            "Long                2\n",
            "1/22/20             0\n",
            "                 ... \n",
            "3/5/23              0\n",
            "3/6/23              0\n",
            "3/7/23              0\n",
            "3/8/23              0\n",
            "3/9/23              0\n",
            "Length: 1147, dtype: int64\n",
            "\n",
            " 2.Deaths\n",
            "  Province/State Country/Region       Lat       Long  1/22/20  1/23/20  \\\n",
            "0            NaN    Afghanistan  33.93911  67.709953        0        0   \n",
            "1            NaN        Albania  41.15330  20.168300        0        0   \n",
            "2            NaN        Algeria  28.03390   1.659600        0        0   \n",
            "3            NaN        Andorra  42.50630   1.521800        0        0   \n",
            "4            NaN         Angola -11.20270  17.873900        0        0   \n",
            "\n",
            "   1/24/20  1/25/20  1/26/20  1/27/20  ...  2/28/23  3/1/23  3/2/23  3/3/23  \\\n",
            "0        0        0        0        0  ...     7896    7896    7896    7896   \n",
            "1        0        0        0        0  ...     3598    3598    3598    3598   \n",
            "2        0        0        0        0  ...     6881    6881    6881    6881   \n",
            "3        0        0        0        0  ...      165     165     165     165   \n",
            "4        0        0        0        0  ...     1933    1933    1933    1933   \n",
            "\n",
            "   3/4/23  3/5/23  3/6/23  3/7/23  3/8/23  3/9/23  \n",
            "0    7896    7896    7896    7896    7896    7896  \n",
            "1    3598    3598    3598    3598    3598    3598  \n",
            "2    6881    6881    6881    6881    6881    6881  \n",
            "3     165     165     165     165     165     165  \n",
            "4    1933    1933    1933    1933    1933    1933  \n",
            "\n",
            "[5 rows x 1147 columns]\n",
            "\n",
            "Missing values:\n",
            "Province/State    198\n",
            "Country/Region      0\n",
            "Lat                 2\n",
            "Long                2\n",
            "1/22/20             0\n",
            "                 ... \n",
            "3/5/23              0\n",
            "3/6/23              0\n",
            "3/7/23              0\n",
            "3/8/23              0\n",
            "3/9/23              0\n",
            "Length: 1147, dtype: int64\n",
            "\n",
            " 3.Recovered\n",
            "  Province/State Country/Region       Lat       Long  1/22/20  1/23/20  \\\n",
            "0            NaN    Afghanistan  33.93911  67.709953        0        0   \n",
            "1            NaN        Albania  41.15330  20.168300        0        0   \n",
            "2            NaN        Algeria  28.03390   1.659600        0        0   \n",
            "3            NaN        Andorra  42.50630   1.521800        0        0   \n",
            "4            NaN         Angola -11.20270  17.873900        0        0   \n",
            "\n",
            "   1/24/20  1/25/20  1/26/20  1/27/20  ...  2/28/23  3/1/23  3/2/23  3/3/23  \\\n",
            "0        0        0        0        0  ...        0       0       0       0   \n",
            "1        0        0        0        0  ...        0       0       0       0   \n",
            "2        0        0        0        0  ...        0       0       0       0   \n",
            "3        0        0        0        0  ...        0       0       0       0   \n",
            "4        0        0        0        0  ...        0       0       0       0   \n",
            "\n",
            "   3/4/23  3/5/23  3/6/23  3/7/23  3/8/23  3/9/23  \n",
            "0       0       0       0       0       0       0  \n",
            "1       0       0       0       0       0       0  \n",
            "2       0       0       0       0       0       0  \n",
            "3       0       0       0       0       0       0  \n",
            "4       0       0       0       0       0       0  \n",
            "\n",
            "[5 rows x 1147 columns]\n",
            "\n",
            "Missing values:\n",
            "Province/State    199\n",
            "Country/Region      0\n",
            "Lat                 1\n",
            "Long                1\n",
            "1/22/20             0\n",
            "                 ... \n",
            "3/5/23              0\n",
            "3/6/23              0\n",
            "3/7/23              0\n",
            "3/8/23              0\n",
            "3/9/23              0\n",
            "Length: 1147, dtype: int64\n"
          ]
        }
      ]
    },
    {
      "cell_type": "markdown",
      "source": [
        "## Data set2. Our World in Data（OWID）：Multi - dimensional comprehensive data\n",
        "\n",
        "**Warehouse address：**\n",
        "https://github.com/owid/covid-19-data\n",
        "\n",
        "**Key files：**\n",
        "owid-covid-data.csv(in the root directory)\n",
        "\n",
        "**Content:**Covers daily data of countries around the world,including: Core indicators: confirmed cases, deaths, severe cases; Extended indicators: vaccination (total doses, full vaccination rate), nucleic acid testing, policies (lockdowns, mask mandates), economic impact, etc.\n",
        "\n",
        "**Features:** Long table format (each row = country + date), with extremely rich dimensions, suitable for demonstrating \"indicator differences\" in \"multi-source heterogeneous\" data.**Spark's multi-field processing can be tested**."
      ],
      "metadata": {
        "id": "Cp6bHx-atO4u"
      }
    },
    {
      "cell_type": "code",
      "source": [
        "# load the OWID data\n",
        "url = \"https://raw.githubusercontent.com/owid/covid-19-data/master/public/data/owid-covid-data.csv\"\n",
        "local_path = \"/content/owid-covid-data.csv\"\n",
        "response = requests.get(url)\n",
        "with open(local_path, 'wb') as f:\n",
        "    f.write(response.content)\n",
        "df_owid = spark.read.option(\"header\", \"true\").csv(local_path)\n"
      ],
      "metadata": {
        "id": "33td9ElvB48u"
      },
      "execution_count": 67,
      "outputs": []
    },
    {
      "cell_type": "code",
      "source": [
        "print(\"\\n owid-covid-data\")\n",
        "df_owid = spark.read.option(\"header\", \"true\").csv(local_path)\n",
        "df_owid.show(5)\n",
        "print(df_owid.head())\n",
        "print(\"\\nMissing values:\")\n",
        "print(df_deaths.isnull().sum())"
      ],
      "metadata": {
        "colab": {
          "base_uri": "https://localhost:8080/"
        },
        "id": "XZELLpYzCO3h",
        "outputId": "3f661f42-a9ad-42fa-a8c1-388c93b295fe"
      },
      "execution_count": 73,
      "outputs": [
        {
          "output_type": "stream",
          "name": "stdout",
          "text": [
            "\n",
            " owid-covid-data\n",
            "+--------+---------+-----------+----------+-----------+---------+------------------+------------+----------+-------------------+-----------------------+---------------------+------------------------------+------------------------+----------------------+-------------------------------+-----------------+------------+------------------------+-------------+-------------------------+---------------------+---------------------------------+----------------------+----------------------------------+-----------+---------+------------------------+----------------------+------------------+-------------------------------+-------------+--------------+-----------+------------------+-----------------+-----------------------+--------------+----------------+-------------------------+------------------------------+-----------------------------+-----------------------------------+--------------------------+-------------------------------------+------------------------------+------------------------------------------+----------------+------------------+----------+-------------+-------------+--------------+---------------+---------------------+-------------------+--------------+------------+----------------------+--------------------------+---------------+-----------------------+----------+------------------------------------+---------------------------+----------------+---------------------------------------+\n",
            "|iso_code|continent|   location|      date|total_cases|new_cases|new_cases_smoothed|total_deaths|new_deaths|new_deaths_smoothed|total_cases_per_million|new_cases_per_million|new_cases_smoothed_per_million|total_deaths_per_million|new_deaths_per_million|new_deaths_smoothed_per_million|reproduction_rate|icu_patients|icu_patients_per_million|hosp_patients|hosp_patients_per_million|weekly_icu_admissions|weekly_icu_admissions_per_million|weekly_hosp_admissions|weekly_hosp_admissions_per_million|total_tests|new_tests|total_tests_per_thousand|new_tests_per_thousand|new_tests_smoothed|new_tests_smoothed_per_thousand|positive_rate|tests_per_case|tests_units|total_vaccinations|people_vaccinated|people_fully_vaccinated|total_boosters|new_vaccinations|new_vaccinations_smoothed|total_vaccinations_per_hundred|people_vaccinated_per_hundred|people_fully_vaccinated_per_hundred|total_boosters_per_hundred|new_vaccinations_smoothed_per_million|new_people_vaccinated_smoothed|new_people_vaccinated_smoothed_per_hundred|stringency_index|population_density|median_age|aged_65_older|aged_70_older|gdp_per_capita|extreme_poverty|cardiovasc_death_rate|diabetes_prevalence|female_smokers|male_smokers|handwashing_facilities|hospital_beds_per_thousand|life_expectancy|human_development_index|population|excess_mortality_cumulative_absolute|excess_mortality_cumulative|excess_mortality|excess_mortality_cumulative_per_million|\n",
            "+--------+---------+-----------+----------+-----------+---------+------------------+------------+----------+-------------------+-----------------------+---------------------+------------------------------+------------------------+----------------------+-------------------------------+-----------------+------------+------------------------+-------------+-------------------------+---------------------+---------------------------------+----------------------+----------------------------------+-----------+---------+------------------------+----------------------+------------------+-------------------------------+-------------+--------------+-----------+------------------+-----------------+-----------------------+--------------+----------------+-------------------------+------------------------------+-----------------------------+-----------------------------------+--------------------------+-------------------------------------+------------------------------+------------------------------------------+----------------+------------------+----------+-------------+-------------+--------------+---------------+---------------------+-------------------+--------------+------------+----------------------+--------------------------+---------------+-----------------------+----------+------------------------------------+---------------------------+----------------+---------------------------------------+\n",
            "|     AFG|     Asia|Afghanistan|2020-01-05|          0|        0|              NULL|           0|         0|               NULL|                    0.0|                  0.0|                          NULL|                     0.0|                   0.0|                           NULL|             NULL|        NULL|                    NULL|         NULL|                     NULL|                 NULL|                             NULL|                  NULL|                              NULL|       NULL|     NULL|                    NULL|                  NULL|              NULL|                           NULL|         NULL|          NULL|       NULL|              NULL|             NULL|                   NULL|          NULL|            NULL|                     NULL|                          NULL|                         NULL|                               NULL|                      NULL|                                 NULL|                          NULL|                                      NULL|             0.0|             54.42|      18.6|         2.58|         1.34|       1803.99|           NULL|               597.03|               9.59|          NULL|        NULL|                 37.75|                       0.5|          64.83|                   0.51|  41128772|                                NULL|                       NULL|            NULL|                                   NULL|\n",
            "|     AFG|     Asia|Afghanistan|2020-01-06|          0|        0|              NULL|           0|         0|               NULL|                    0.0|                  0.0|                          NULL|                     0.0|                   0.0|                           NULL|             NULL|        NULL|                    NULL|         NULL|                     NULL|                 NULL|                             NULL|                  NULL|                              NULL|       NULL|     NULL|                    NULL|                  NULL|              NULL|                           NULL|         NULL|          NULL|       NULL|              NULL|             NULL|                   NULL|          NULL|            NULL|                     NULL|                          NULL|                         NULL|                               NULL|                      NULL|                                 NULL|                          NULL|                                      NULL|             0.0|             54.42|      18.6|         2.58|         1.34|       1803.99|           NULL|               597.03|               9.59|          NULL|        NULL|                 37.75|                       0.5|          64.83|                   0.51|  41128772|                                NULL|                       NULL|            NULL|                                   NULL|\n",
            "|     AFG|     Asia|Afghanistan|2020-01-07|          0|        0|              NULL|           0|         0|               NULL|                    0.0|                  0.0|                          NULL|                     0.0|                   0.0|                           NULL|             NULL|        NULL|                    NULL|         NULL|                     NULL|                 NULL|                             NULL|                  NULL|                              NULL|       NULL|     NULL|                    NULL|                  NULL|              NULL|                           NULL|         NULL|          NULL|       NULL|              NULL|             NULL|                   NULL|          NULL|            NULL|                     NULL|                          NULL|                         NULL|                               NULL|                      NULL|                                 NULL|                          NULL|                                      NULL|             0.0|             54.42|      18.6|         2.58|         1.34|       1803.99|           NULL|               597.03|               9.59|          NULL|        NULL|                 37.75|                       0.5|          64.83|                   0.51|  41128772|                                NULL|                       NULL|            NULL|                                   NULL|\n",
            "|     AFG|     Asia|Afghanistan|2020-01-08|          0|        0|              NULL|           0|         0|               NULL|                    0.0|                  0.0|                          NULL|                     0.0|                   0.0|                           NULL|             NULL|        NULL|                    NULL|         NULL|                     NULL|                 NULL|                             NULL|                  NULL|                              NULL|       NULL|     NULL|                    NULL|                  NULL|              NULL|                           NULL|         NULL|          NULL|       NULL|              NULL|             NULL|                   NULL|          NULL|            NULL|                     NULL|                          NULL|                         NULL|                               NULL|                      NULL|                                 NULL|                          NULL|                                      NULL|             0.0|             54.42|      18.6|         2.58|         1.34|       1803.99|           NULL|               597.03|               9.59|          NULL|        NULL|                 37.75|                       0.5|          64.83|                   0.51|  41128772|                                NULL|                       NULL|            NULL|                                   NULL|\n",
            "|     AFG|     Asia|Afghanistan|2020-01-09|          0|        0|              NULL|           0|         0|               NULL|                    0.0|                  0.0|                          NULL|                     0.0|                   0.0|                           NULL|             NULL|        NULL|                    NULL|         NULL|                     NULL|                 NULL|                             NULL|                  NULL|                              NULL|       NULL|     NULL|                    NULL|                  NULL|              NULL|                           NULL|         NULL|          NULL|       NULL|              NULL|             NULL|                   NULL|          NULL|            NULL|                     NULL|                          NULL|                         NULL|                               NULL|                      NULL|                                 NULL|                          NULL|                                      NULL|             0.0|             54.42|      18.6|         2.58|         1.34|       1803.99|           NULL|               597.03|               9.59|          NULL|        NULL|                 37.75|                       0.5|          64.83|                   0.51|  41128772|                                NULL|                       NULL|            NULL|                                   NULL|\n",
            "+--------+---------+-----------+----------+-----------+---------+------------------+------------+----------+-------------------+-----------------------+---------------------+------------------------------+------------------------+----------------------+-------------------------------+-----------------+------------+------------------------+-------------+-------------------------+---------------------+---------------------------------+----------------------+----------------------------------+-----------+---------+------------------------+----------------------+------------------+-------------------------------+-------------+--------------+-----------+------------------+-----------------+-----------------------+--------------+----------------+-------------------------+------------------------------+-----------------------------+-----------------------------------+--------------------------+-------------------------------------+------------------------------+------------------------------------------+----------------+------------------+----------+-------------+-------------+--------------+---------------+---------------------+-------------------+--------------+------------+----------------------+--------------------------+---------------+-----------------------+----------+------------------------------------+---------------------------+----------------+---------------------------------------+\n",
            "only showing top 5 rows\n",
            "\n",
            "Row(iso_code='AFG', continent='Asia', location='Afghanistan', date='2020-01-05', total_cases='0', new_cases='0', new_cases_smoothed=None, total_deaths='0', new_deaths='0', new_deaths_smoothed=None, total_cases_per_million='0.0', new_cases_per_million='0.0', new_cases_smoothed_per_million=None, total_deaths_per_million='0.0', new_deaths_per_million='0.0', new_deaths_smoothed_per_million=None, reproduction_rate=None, icu_patients=None, icu_patients_per_million=None, hosp_patients=None, hosp_patients_per_million=None, weekly_icu_admissions=None, weekly_icu_admissions_per_million=None, weekly_hosp_admissions=None, weekly_hosp_admissions_per_million=None, total_tests=None, new_tests=None, total_tests_per_thousand=None, new_tests_per_thousand=None, new_tests_smoothed=None, new_tests_smoothed_per_thousand=None, positive_rate=None, tests_per_case=None, tests_units=None, total_vaccinations=None, people_vaccinated=None, people_fully_vaccinated=None, total_boosters=None, new_vaccinations=None, new_vaccinations_smoothed=None, total_vaccinations_per_hundred=None, people_vaccinated_per_hundred=None, people_fully_vaccinated_per_hundred=None, total_boosters_per_hundred=None, new_vaccinations_smoothed_per_million=None, new_people_vaccinated_smoothed=None, new_people_vaccinated_smoothed_per_hundred=None, stringency_index='0.0', population_density='54.42', median_age='18.6', aged_65_older='2.58', aged_70_older='1.34', gdp_per_capita='1803.99', extreme_poverty=None, cardiovasc_death_rate='597.03', diabetes_prevalence='9.59', female_smokers=None, male_smokers=None, handwashing_facilities='37.75', hospital_beds_per_thousand='0.5', life_expectancy='64.83', human_development_index='0.51', population='41128772', excess_mortality_cumulative_absolute=None, excess_mortality_cumulative=None, excess_mortality=None, excess_mortality_cumulative_per_million=None)\n",
            "\n",
            "Missing values:\n",
            "Province/State    198\n",
            "Country/Region      0\n",
            "Lat                 2\n",
            "Long                2\n",
            "1/22/20             0\n",
            "                 ... \n",
            "3/5/23              0\n",
            "3/6/23              0\n",
            "3/7/23              0\n",
            "3/8/23              0\n",
            "3/9/23              0\n",
            "Length: 1147, dtype: int64\n"
          ]
        }
      ]
    },
    {
      "cell_type": "markdown",
      "source": [
        "## Dataset3.The New York Times (NYT) US COVID-19 Data Warehouse\n",
        "\n",
        "**Warehouse address：**\n",
        "https://github.com/nytimes/covid-19-data\n",
        "\n",
        "**Key files：** us.csv  National Summary of the United States,us-states.csv   Data of each state in the United States,us-counties.csv   Data of each county in the United States\n",
        "\n",
        "**Features:**data,case,deaths\n",
        "NYT focuses on core case indicators (only confirmed cases and deaths). The indicators are more concise, and **it can simulate the cleaning scenario of \"simply structured data\"** (for example, calculating new cases: new cases on the current day = cumulative cases on the current day - cumulative cases on the previous day)."
      ],
      "metadata": {
        "id": "FEXsWXUOu_0V"
      }
    },
    {
      "cell_type": "code",
      "source": [
        "#load the NYT data\n",
        "import requests\n",
        "\n",
        "nyt_url = \"https://raw.githubusercontent.com/nytimes/covid-19-data/master/us.csv\"\n",
        "local_nyt_path = \"/content/nyt_us.csv\"\n",
        "\n",
        "response = requests.get(nyt_url)\n",
        "with open(local_nyt_path, 'wb') as f:\n",
        "    f.write(response.content)\n",
        "\n",
        "# using PySpark\n",
        "df_nyt = spark.read.option(\"header\", \"true\").option(\"inferSchema\", \"true\").csv(local_nyt_path)\n",
        "df_nyt.show(5)\n",
        "print(df_nyt.columns)\n",
        "\n"
      ],
      "metadata": {
        "colab": {
          "base_uri": "https://localhost:8080/"
        },
        "id": "JMJFeML9CEkq",
        "outputId": "8572e2b0-8ae0-4fac-dabc-aa2c6e7f9490"
      },
      "execution_count": 74,
      "outputs": [
        {
          "output_type": "stream",
          "name": "stdout",
          "text": [
            "+----------+-----+------+\n",
            "|      date|cases|deaths|\n",
            "+----------+-----+------+\n",
            "|2020-01-21|    1|     0|\n",
            "|2020-01-22|    1|     0|\n",
            "|2020-01-23|    1|     0|\n",
            "|2020-01-24|    2|     0|\n",
            "|2020-01-25|    3|     0|\n",
            "+----------+-----+------+\n",
            "only showing top 5 rows\n",
            "\n",
            "['date', 'cases', 'deaths']\n"
          ]
        }
      ]
    },
    {
      "cell_type": "markdown",
      "source": [
        "## Dataset combination part\n",
        "After the preliminary data inspection and confirmation, the data sets are now to be merged.\n",
        "In order to avoid duplication, **data source 1 only uses the confirmed dataset** for merging to clearly retain the structure between the data sources."
      ],
      "metadata": {
        "id": "F0Hc6cb9xb9N"
      }
    },
    {
      "cell_type": "code",
      "source": [
        "import pandas as pd\n",
        "import numpy as np\n",
        "# Clean and standardize JHU (time_series_covid19_confirmed_global.csv only)\n",
        "jhu_fixed_cols = [\"Province/State\", \"Country/Region\", \"Lat\", \"Long\"]\n",
        "date_cols = [col for col in df_confirmed.columns if col not in jhu_fixed_cols]\n",
        "\n",
        "# Melt to long format\n",
        "df_jhu_long = df_confirmed.melt(\n",
        "    id_vars=jhu_fixed_cols,\n",
        "    var_name=\"date\",\n",
        "    value_name=\"confirmed\"\n",
        ")\n",
        "\n",
        "df_jhu_long[\"date\"] = pd.to_datetime(df_jhu_long[\"date\"], format=\"%m/%d/%y\")\n",
        "df_jhu_long.rename(columns={\"Country/Region\": \"country\", \"Province/State\": \"state\"}, inplace=True)\n",
        "df_jhu_long[\"deaths\"] = np.nan\n",
        "df_jhu_long[\"recovered\"] = np.nan\n",
        "df_jhu_long[\"source\"] = \"JHU\"\n",
        "df_jhu_std = df_jhu_long[[\"date\", \"country\", \"state\", \"confirmed\", \"deaths\", \"recovered\", \"source\"]]"
      ],
      "metadata": {
        "id": "OO5bxHOlySCb"
      },
      "execution_count": 84,
      "outputs": []
    },
    {
      "cell_type": "code",
      "source": [
        "# Clean and standardize OWID - long table\n",
        "owid_url = \"https://covid.ourworldindata.org/data/owid-covid-data.csv\"\n",
        "df_owid = pd.read_csv(owid_url)\n",
        "df_owid[\"date\"] = pd.to_datetime(df_owid[\"date\"])\n",
        "df_owid_std = df_owid[[\"date\", \"location\", \"total_cases\", \"total_deaths\"]].copy()\n",
        "df_owid_std[\"country\"] = df_owid_std[\"location\"]\n",
        "df_owid_std[\"state\"] = np.nan\n",
        "df_owid_std[\"confirmed\"] = df_owid_std[\"total_cases\"]\n",
        "df_owid_std[\"deaths\"] = df_owid_std[\"total_deaths\"]\n",
        "df_owid_std[\"recovered\"] = np.nan\n",
        "df_owid_std[\"source\"] = \"OWID\"\n",
        "df_owid_std = df_owid_std[[\"date\", \"country\", \"state\", \"confirmed\", \"deaths\", \"recovered\", \"source\"]]\n"
      ],
      "metadata": {
        "id": "9jTIQxCh8EWZ"
      },
      "execution_count": 85,
      "outputs": []
    },
    {
      "cell_type": "code",
      "source": [
        "# Clean and standardize NYT\n",
        "nyt_url = \"https://raw.githubusercontent.com/nytimes/covid-19-data/master/us.csv\"\n",
        "df_nyt = pd.read_csv(nyt_url)\n",
        "df_nyt[\"date\"] = pd.to_datetime(df_nyt[\"date\"])\n",
        "df_nyt_std = df_nyt.copy()\n",
        "df_nyt_std[\"country\"] = \"United States\"\n",
        "df_nyt_std[\"state\"] = np.nan\n",
        "df_nyt_std[\"confirmed\"] = df_nyt_std[\"cases\"]\n",
        "df_nyt_std[\"recovered\"] = np.nan\n",
        "df_nyt_std[\"source\"] = \"NYT\"\n",
        "df_nyt_std = df_nyt_std[[\"date\", \"country\", \"state\", \"confirmed\", \"deaths\", \"recovered\", \"source\"]]"
      ],
      "metadata": {
        "id": "aHhPA9BmAM3j"
      },
      "execution_count": 87,
      "outputs": []
    },
    {
      "cell_type": "code",
      "source": [
        "# combinate the dataset\n",
        "df_all = pd.concat([df_jhu_std, df_owid_std, df_nyt_std], ignore_index=True)\n",
        "df_all.sort_values(by=[\"country\", \"state\", \"date\"], inplace=True)"
      ],
      "metadata": {
        "id": "L60PZXbtAmIQ"
      },
      "execution_count": 88,
      "outputs": []
    },
    {
      "cell_type": "code",
      "source": [
        "df_all.show(5)"
      ],
      "metadata": {
        "colab": {
          "base_uri": "https://localhost:8080/"
        },
        "id": "z0mLQxKVGS0V",
        "outputId": "ba2cff9b-53a2-4dca-c1c2-1310775e3446"
      },
      "execution_count": 21,
      "outputs": [
        {
          "output_type": "stream",
          "name": "stdout",
          "text": [
            "+----------+-----------+-----+---------+------+---------+------+\n",
            "|      date|    country|state|confirmed|deaths|recovered|source|\n",
            "+----------+-----------+-----+---------+------+---------+------+\n",
            "|2020-01-22|Afghanistan| NULL|        0|  NULL|     NULL|   JHU|\n",
            "|2020-01-23|Afghanistan| NULL|        0|  NULL|     NULL|   JHU|\n",
            "|2020-01-24|Afghanistan| NULL|        0|  NULL|     NULL|   JHU|\n",
            "|2020-01-25|Afghanistan| NULL|        0|  NULL|     NULL|   JHU|\n",
            "|2020-01-26|Afghanistan| NULL|        0|  NULL|     NULL|   JHU|\n",
            "+----------+-----------+-----+---------+------+---------+------+\n",
            "only showing top 5 rows\n",
            "\n"
          ]
        }
      ]
    },
    {
      "cell_type": "code",
      "source": [
        "# save CSV\n",
        "df_all.to_csv(\"covid_cleaned_combined.csv\", index=False)\n",
        "\n",
        "# download in Colab\n",
        "from google.colab import files\n",
        "files.download(\"covid_cleaned_combined.csv\")\n"
      ],
      "metadata": {
        "colab": {
          "base_uri": "https://localhost:8080/",
          "height": 17
        },
        "id": "GgUIytaV2WTp",
        "outputId": "210e1ef2-c1fa-4578-ca1d-b0c28351336b"
      },
      "execution_count": 91,
      "outputs": [
        {
          "output_type": "display_data",
          "data": {
            "text/plain": [
              "<IPython.core.display.Javascript object>"
            ],
            "application/javascript": [
              "\n",
              "    async function download(id, filename, size) {\n",
              "      if (!google.colab.kernel.accessAllowed) {\n",
              "        return;\n",
              "      }\n",
              "      const div = document.createElement('div');\n",
              "      const label = document.createElement('label');\n",
              "      label.textContent = `Downloading \"${filename}\": `;\n",
              "      div.appendChild(label);\n",
              "      const progress = document.createElement('progress');\n",
              "      progress.max = size;\n",
              "      div.appendChild(progress);\n",
              "      document.body.appendChild(div);\n",
              "\n",
              "      const buffers = [];\n",
              "      let downloaded = 0;\n",
              "\n",
              "      const channel = await google.colab.kernel.comms.open(id);\n",
              "      // Send a message to notify the kernel that we're ready.\n",
              "      channel.send({})\n",
              "\n",
              "      for await (const message of channel.messages) {\n",
              "        // Send a message to notify the kernel that we're ready.\n",
              "        channel.send({})\n",
              "        if (message.buffers) {\n",
              "          for (const buffer of message.buffers) {\n",
              "            buffers.push(buffer);\n",
              "            downloaded += buffer.byteLength;\n",
              "            progress.value = downloaded;\n",
              "          }\n",
              "        }\n",
              "      }\n",
              "      const blob = new Blob(buffers, {type: 'application/binary'});\n",
              "      const a = document.createElement('a');\n",
              "      a.href = window.URL.createObjectURL(blob);\n",
              "      a.download = filename;\n",
              "      div.appendChild(a);\n",
              "      a.click();\n",
              "      div.remove();\n",
              "    }\n",
              "  "
            ]
          },
          "metadata": {}
        },
        {
          "output_type": "display_data",
          "data": {
            "text/plain": [
              "<IPython.core.display.Javascript object>"
            ],
            "application/javascript": [
              "download(\"download_86c3d82e-48ca-4a9d-b3a9-246481845164\", \"covid_cleaned_combined.csv\", 32127395)"
            ]
          },
          "metadata": {}
        }
      ]
    }
  ]
}